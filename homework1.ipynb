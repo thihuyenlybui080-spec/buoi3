{
  "cells": [
    {
      "cell_type": "code",
      "execution_count": null,
      "metadata": {
        "id": "1PV-54KH5j5S"
      },
      "outputs": [],
      "source": [
        "#bai 1\n",
        "n = int(input(\"nhập vào số nguyên n: \"))\n",
        "a = 2 * n\n",
        "print(a)\n"
      ]
    },
    {
      "cell_type": "code",
      "execution_count": null,
      "metadata": {
        "id": "l8gVjHQ25oKb"
      },
      "outputs": [],
      "source": [
        "#bai 2\n",
        "a = int(input(\"nhập vào chiều rộng: \"))\n",
        "b = int(input(\"nhập vào chiều dài: \"))\n",
        "s = a * b - 3.14 * ( a / 2 ) ** 2 \n",
        "print(f\"diện tích còn lại để trồng cây là {s:.2f}\")\n"
      ]
    },
    {
      "cell_type": "code",
      "execution_count": null,
      "metadata": {},
      "outputs": [],
      "source": [
        "#bai 3\n",
        "c = input(\"nhập vào một kí tự chữ cái: \")\n",
        "if not c.isalpha():\n",
        "  print(\"nhập kí tự chữ cái\")\n",
        "elif len(c) != 1:\n",
        "  print(\"nhập một kí tự\")\n",
        "else:\n",
        "  if c.isupper():\n",
        "    print(f\"{c.lower()} là chữ cái thường tương ứng\")\n",
        "  else:\n",
        "    print(f\"{c.upper()} là chữ cái in hoa tương ứng\")"
      ]
    },
    {
      "cell_type": "code",
      "execution_count": null,
      "metadata": {},
      "outputs": [],
      "source": [
        "#bai 4\n",
        "c = input(\"nhập vào một kí tự: \")\n",
        "if len(c) != 1:\n",
        "    print(\"nhập vào một kí tự\")\n",
        "elif c.isalpha():\n",
        "    print(f\"{c} là một kí tự alphabet\")\n",
        "else:\n",
        "    print(f\"{c} không phải là một kí tự alphabet\")\n"
      ]
    },
    {
      "cell_type": "code",
      "execution_count": null,
      "metadata": {},
      "outputs": [],
      "source": [
        "#bai 5\n",
        "c = input(\"nhập vào một chữ cái hoa tương ứng: \")\n",
        "if not c.isalpha():\n",
        "    print(\"nhập vào kí tự chữ cái\")\n",
        "elif not c.isupper():\n",
        "    print(\" vui lòng nhập vào chữ cái in hoa\")\n",
        "elif c == \"A\":\n",
        "    print(f\"{c.lower()} không có chữ cái thường liền trước\")\n",
        "else:\n",
        "    print(f\"{chr(ord(c.lower()) - 1)} là chữ cái thường liền trước {c.lower()}\")"
      ]
    },
    {
      "cell_type": "code",
      "execution_count": null,
      "metadata": {},
      "outputs": [],
      "source": [
        "#bai 6\n",
        "import math\n",
        "a = int(input())\n",
        "b = int(input())\n",
        "c = int(input())\n",
        "if a + b > c and b + c > a and a + c > b:\n",
        "    p = ( a + b + c ) / 2\n",
        "    s = math.sqrt(p * ( p-a ) * ( p - b ) * ( p - c ))\n",
        "    print(f\"{s:.1f}\")\n",
        "else:\n",
        "    print(\"không phải là cạnh của tam giác\")\n"
      ]
    },
    {
      "cell_type": "code",
      "execution_count": null,
      "metadata": {},
      "outputs": [],
      "source": [
        "#bai 7\n",
        "a = input(\"nhập vào các kí tự: \")\n",
        "if a.isalpha():\n",
        "    if a.islower():\n",
        "        if len(a) >= 20:\n",
        "            print(f\"{a[4]} và {a[8]} là chữ cái thứ 5 và thứ 9 tương ứng\")\n",
        "        else:\n",
        "            print(\"hãy nhập độ dài kí tự lớn hơn hoặc bằng 20\")\n",
        "    else:\n",
        "        print(\"hãy nhập các chữ cái thường\")\n",
        "else:\n",
        "    print(\"hãy nhập kí tự chữ cái\")"
      ]
    },
    {
      "cell_type": "code",
      "execution_count": null,
      "metadata": {},
      "outputs": [],
      "source": [
        "#bai 8\n",
        "ten_chu_ho = input(\"Ho va ten: \")\n",
        "chi_so_truoc = int(input(\"chi so thang truoc: \"))\n",
        "chi_so_nay = int(input(\"chi so thang nay: \"))\n",
        "so_dien = chi_so_nay - chi_so_truoc\n",
        "if so_dien <= 50:\n",
        "    tong = 1984 * so_dien\n",
        "elif 51 <= so_dien <= 100:\n",
        "    tong = 1984 * 50 + 2050 * ( so_dien - 50 )\n",
        "elif 101 <= so_dien <= 200:\n",
        "    tong = 1984 * 50 + 2050 * 50 + 2380 * ( so_dien - 100 )\n",
        "elif 201 <= so_dien <= 300:\n",
        "    tong = 1984 * 50 + 2050 * 50 + 100 * 2380 + 2998 * ( so_dien - 200 )\n",
        "elif 301 <= so_dien <= 400:\n",
        "    tong = 1984 * 50 + 2050 * 50 + 100 * 2380 + 2998 * 100 + 3350 * ( so_dien - 300 )\n",
        "else:\n",
        "    tong = 1984 * 50 + 2050 * 50 + 100 * 2380 + 2998 * 100 + 3350 * 100 + 3460 * ( so_dien - 400 )\n",
        "\n",
        "Tong = tong * 1.08\n",
        "print(f\"tien phai tra la: {round(Tong)} dong \")\n",
        "    \n"
      ]
    },
    {
      "cell_type": "code",
      "execution_count": null,
      "metadata": {},
      "outputs": [],
      "source": [
        "# bai tap khac\n",
        "#bai 1\n",
        "a = int(input())\n",
        "if a % 2 == 0:\n",
        "    print(f\"{a} la so chan\")\n",
        "else:\n",
        "    print(f\"{a} la so le\")"
      ]
    },
    {
      "cell_type": "code",
      "execution_count": null,
      "metadata": {},
      "outputs": [],
      "source": [
        "# bai tap khac\n",
        "#bai 2\n",
        "a = int(input())\n",
        "if a % 10 == 5:\n",
        "    print(True)\n",
        "else:\n",
        "    print(False)"
      ]
    },
    {
      "cell_type": "code",
      "execution_count": null,
      "metadata": {},
      "outputs": [],
      "source": [
        "# bai tap khac\n",
        "#bai 3\n",
        "a = int(input())\n",
        "if a % 3 == 0 and a % 5 == 0:\n",
        "    print(True)\n",
        "else:\n",
        "    print(False)"
      ]
    },
    {
      "cell_type": "code",
      "execution_count": null,
      "metadata": {},
      "outputs": [],
      "source": [
        "# bai tap khac\n",
        "#bai 4\n",
        "nam_sinh = int(input(\"nam sinh cua ban: \"))\n",
        "if 2025 - nam_sinh == 18:\n",
        "    print(\"du tuoi di bau cu\")\n",
        "else:\n",
        "    print(\"khong du tuoi di bau cu\")"
      ]
    },
    {
      "cell_type": "code",
      "execution_count": null,
      "metadata": {},
      "outputs": [],
      "source": [
        "# bai tap khac\n",
        "#bai 5\n",
        "a = int(input())\n",
        "b = int(input())\n",
        "if a > b:\n",
        "    print(a)\n",
        "elif a < b:\n",
        "    print(b)\n",
        "else:\n",
        "    print(\" hai so bang nhau\")\n"
      ]
    },
    {
      "cell_type": "code",
      "execution_count": null,
      "metadata": {},
      "outputs": [],
      "source": [
        "# bai tap khac\n",
        "#bai 6\n",
        "a = input(\"nhap vao mot ki tu: \")\n",
        "if not a.isalpha():\n",
        "    print(\"ki tu nay la so\")\n",
        "else:\n",
        "    print(\"ki tu nay la chu cai\")"
      ]
    },
    {
      "cell_type": "code",
      "execution_count": null,
      "metadata": {},
      "outputs": [],
      "source": [
        "# bai tap khac\n",
        "#bai 7\n",
        "diem = int(input(\"nhap diem thang 1-10: \" ))\n",
        "while diem > 10 or diem < 0:\n",
        "    print(\"vuot qua thang diem\")\n",
        "    diem = int(input(\"nhap diem thang 1-10: \"))\n",
        "if diem >= 8:\n",
        "    print(\"gioi\")\n",
        "elif 6.5 <= diem < 8:\n",
        "    print(\"kha\")\n",
        "elif 5 <= diem < 6.5:\n",
        "    print(\"trung binh\")\n",
        "else:\n",
        "    print(\"yeu\")"
      ]
    },
    {
      "cell_type": "code",
      "execution_count": null,
      "metadata": {},
      "outputs": [],
      "source": [
        "# bai tap khac\n",
        "#bai 8\n",
        "nam = int(input(\"nhap nam: \"))\n",
        "if nam % 4 == 0 and nam % 100 != 0:\n",
        "    print(f\"{nam} la nam nhuan\")\n",
        "else:\n",
        "    print(f\"{nam} khong phai la nam nhuan\")"
      ]
    },
    {
      "cell_type": "code",
      "execution_count": null,
      "metadata": {},
      "outputs": [],
      "source": []
    }
  ],
  "metadata": {
    "colab": {
      "provenance": []
    },
    "kernelspec": {
      "display_name": "Python 3",
      "name": "python3"
    },
    "language_info": {
      "codemirror_mode": {
        "name": "ipython",
        "version": 3
      },
      "file_extension": ".py",
      "mimetype": "text/x-python",
      "name": "python",
      "nbconvert_exporter": "python",
      "pygments_lexer": "ipython3",
      "version": "3.13.7"
    }
  },
  "nbformat": 4,
  "nbformat_minor": 0
}
