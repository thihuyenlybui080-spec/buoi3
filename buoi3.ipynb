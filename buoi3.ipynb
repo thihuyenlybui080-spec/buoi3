{
  "cells": [
    {
      "cell_type": "code",
      "execution_count": 2,
      "metadata": {
        "id": "1PV-54KH5j5S"
      },
      "outputs": [
        {
          "name": "stdout",
          "output_type": "stream",
          "text": [
            "8\n"
          ]
        }
      ],
      "source": [
        "#bai 1\n",
        "n = int(input(\"nhập vào số nguyên n: \"))\n",
        "a = 2 * n\n",
        "print(a)\n"
      ]
    },
    {
      "cell_type": "code",
      "execution_count": 3,
      "metadata": {
        "id": "l8gVjHQ25oKb"
      },
      "outputs": [
        {
          "name": "stdout",
          "output_type": "stream",
          "text": [
            "diện tích còn lại để trồng cây là 10.38\n"
          ]
        }
      ],
      "source": [
        "#bai 2\n",
        "a = int(input(\"nhập vào chiều rộng: \"))\n",
        "b = int(input(\"nhập vào chiều dài: \"))\n",
        "s = a * b - 3.14 * ( a / 2 ) ** 2 \n",
        "print(f\"diện tích còn lại để trồng cây là {s:.2f}\")\n"
      ]
    },
    {
      "cell_type": "code",
      "execution_count": 5,
      "metadata": {},
      "outputs": [
        {
          "name": "stdout",
          "output_type": "stream",
          "text": [
            "A là chữ cái in hoa tương ứng\n"
          ]
        }
      ],
      "source": [
        "#bai 3\n",
        "c = input(\"nhập vào một kí tự chữ cái: \")\n",
        "if not c.isalpha():\n",
        "  print(\"nhập kí tự chữ cái\")\n",
        "elif len(c) != 1:\n",
        "  print(\"nhập một kí tự\")\n",
        "else:\n",
        "  if c.isupper():\n",
        "    print(f\"{c.lower()} là chữ cái thường tương ứng\")\n",
        "  else:\n",
        "    print(f\"{c.upper()} là chữ cái in hoa tương ứng\")"
      ]
    }
  ],
  "metadata": {
    "colab": {
      "provenance": []
    },
    "kernelspec": {
      "display_name": "Python 3",
      "name": "python3"
    },
    "language_info": {
      "codemirror_mode": {
        "name": "ipython",
        "version": 3
      },
      "file_extension": ".py",
      "mimetype": "text/x-python",
      "name": "python",
      "nbconvert_exporter": "python",
      "pygments_lexer": "ipython3",
      "version": "3.13.7"
    }
  },
  "nbformat": 4,
  "nbformat_minor": 0
}
