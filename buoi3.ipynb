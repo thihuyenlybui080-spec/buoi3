Delete file buoi_3.ipynb (invalid notebook)

